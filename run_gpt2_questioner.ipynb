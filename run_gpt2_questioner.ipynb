{
 "cells": [
  {
   "cell_type": "markdown",
   "metadata": {},
   "source": [
    "***\n",
    "\n",
    "# `GPT-2 Questioner`\n",
    "Evaluate the GPT-2-based visual questioner.\n",
    "\n",
    "***"
   ]
  },
  {
   "cell_type": "code",
   "execution_count": 1,
   "metadata": {},
   "outputs": [],
   "source": [
    "import gpt_2_simple as gpt2\n",
    "from captioner import Captioner\n",
    "from postprocess_utils import gpt2_gen_questions"
   ]
  },
  {
   "cell_type": "code",
   "execution_count": 2,
   "metadata": {},
   "outputs": [
    {
     "name": "stdout",
     "output_type": "stream",
     "text": [
      "Loading checkpoint checkpoint/run1/model-500\n",
      "WARNING:tensorflow:From /home/owen/.local/lib/python3.6/site-packages/tensorflow/python/training/saver.py:1276: checkpoint_exists (from tensorflow.python.training.checkpoint_management) is deprecated and will be removed in a future version.\n",
      "Instructions for updating:\n",
      "Use standard file APIs to check for files with this prefix.\n",
      "INFO:tensorflow:Restoring parameters from checkpoint/run1/model-500\n"
     ]
    }
   ],
   "source": [
    "sess = gpt2.start_tf_sess()\n",
    "gpt2.load_gpt2(sess)"
   ]
  },
  {
   "cell_type": "code",
   "execution_count": 3,
   "metadata": {},
   "outputs": [
    {
     "name": "stdout",
     "output_type": "stream",
     "text": [
      "WARNING:tensorflow:From /home/owen/workspace/visual-questioner/captioner.py:21: The name tf.get_default_graph is deprecated. Please use tf.compat.v1.get_default_graph instead.\n",
      "\n",
      "WARNING:tensorflow:From /home/owen/workspace/visual-questioner/vtensorflow/models/research/im2txt/im2txt/inference_utils/inference_wrapper_base.py:132: The name tf.logging.info is deprecated. Please use tf.compat.v1.logging.info instead.\n",
      "\n",
      "INFO:tensorflow:Building model.\n",
      "WARNING:tensorflow:From /home/owen/workspace/visual-questioner/vtensorflow/models/research/im2txt/im2txt/show_and_tell_model.py:55: TFRecordReader.__init__ (from tensorflow.python.ops.io_ops) is deprecated and will be removed in a future version.\n",
      "Instructions for updating:\n",
      "Queue-based input pipelines have been replaced by `tf.data`. Use `tf.data.TFRecordDataset`.\n",
      "WARNING:tensorflow:From /home/owen/workspace/visual-questioner/vtensorflow/models/research/im2txt/im2txt/show_and_tell_model.py:132: The name tf.placeholder is deprecated. Please use tf.compat.v1.placeholder instead.\n",
      "\n",
      "WARNING:tensorflow:From /home/owen/workspace/visual-questioner/vtensorflow/models/research/im2txt/im2txt/ops/image_processing.py:95: The name tf.summary.image is deprecated. Please use tf.compat.v1.summary.image instead.\n",
      "\n",
      "WARNING:tensorflow:From /home/owen/workspace/visual-questioner/vtensorflow/models/research/im2txt/im2txt/ops/image_processing.py:111: The name tf.image.resize_images is deprecated. Please use tf.image.resize instead.\n",
      "\n",
      "WARNING:tensorflow:From /home/owen/workspace/visual-questioner/vtensorflow/models/research/im2txt/im2txt/ops/image_processing.py:120: The name tf.image.resize_image_with_crop_or_pad is deprecated. Please use tf.image.resize_with_crop_or_pad instead.\n",
      "\n",
      "WARNING:tensorflow:From /home/owen/workspace/visual-questioner/vtensorflow/models/research/im2txt/im2txt/ops/image_embedding.py:87: The name tf.variable_scope is deprecated. Please use tf.compat.v1.variable_scope instead.\n",
      "\n",
      "WARNING:tensorflow:From /home/owen/.local/lib/python3.6/site-packages/tensorflow/contrib/layers/python/layers/layers.py:1634: flatten (from tensorflow.python.layers.core) is deprecated and will be removed in a future version.\n",
      "Instructions for updating:\n",
      "Use keras.layers.flatten instead.\n",
      "WARNING:tensorflow:From /home/owen/.local/lib/python3.6/site-packages/tensorflow/contrib/layers/python/layers/summaries.py:95: to_float (from tensorflow.python.ops.math_ops) is deprecated and will be removed in a future version.\n",
      "Instructions for updating:\n",
      "Use `tf.cast` instead.\n",
      "WARNING:tensorflow:From /home/owen/workspace/visual-questioner/vtensorflow/models/research/im2txt/im2txt/show_and_tell_model.py:194: The name tf.get_collection is deprecated. Please use tf.compat.v1.get_collection instead.\n",
      "\n",
      "WARNING:tensorflow:From /home/owen/workspace/visual-questioner/vtensorflow/models/research/im2txt/im2txt/show_and_tell_model.py:195: The name tf.GraphKeys is deprecated. Please use tf.compat.v1.GraphKeys instead.\n",
      "\n",
      "WARNING:tensorflow:From /home/owen/workspace/visual-questioner/vtensorflow/models/research/im2txt/im2txt/show_and_tell_model.py:248: BasicLSTMCell.__init__ (from tensorflow.python.ops.rnn_cell_impl) is deprecated and will be removed in a future version.\n",
      "Instructions for updating:\n",
      "This class is equivalent as tf.keras.layers.LSTMCell, and will be replaced by that in Tensorflow 2.0.\n",
      "WARNING:tensorflow:From /home/owen/.local/lib/python3.6/site-packages/tensorflow/python/ops/rnn_cell_impl.py:738: calling Zeros.__init__ (from tensorflow.python.ops.init_ops) with dtype is deprecated and will be removed in a future version.\n",
      "Instructions for updating:\n",
      "Call initializer instance with the dtype argument instead of passing it to the constructor\n",
      "WARNING:tensorflow:From /home/owen/workspace/visual-questioner/vtensorflow/models/research/im2txt/im2txt/inference_utils/inference_wrapper_base.py:89: The name tf.gfile.IsDirectory is deprecated. Please use tf.io.gfile.isdir instead.\n",
      "\n",
      "WARNING:tensorflow:From /home/owen/workspace/visual-questioner/vtensorflow/models/research/im2txt/im2txt/inference_utils/inference_wrapper_base.py:97: The name tf.train.NewCheckpointReader is deprecated. Please use tf.compat.v1.train.NewCheckpointReader instead.\n",
      "\n",
      "WARNING:tensorflow:From /home/owen/workspace/visual-questioner/vtensorflow/models/research/im2txt/im2txt/inference_utils/inference_wrapper_base.py:110: The name tf.train.Saver is deprecated. Please use tf.compat.v1.train.Saver instead.\n",
      "\n",
      "WARNING:tensorflow:From /home/owen/workspace/visual-questioner/vtensorflow/models/research/im2txt/im2txt/inference_utils/vocabulary.py:43: The name tf.gfile.Exists is deprecated. Please use tf.io.gfile.exists instead.\n",
      "\n",
      "INFO:tensorflow:Initializing vocabulary from file: /home/owen/workspace/visual-questioner/im2txt/word_counts.txt\n",
      "WARNING:tensorflow:From /home/owen/workspace/visual-questioner/vtensorflow/models/research/im2txt/im2txt/inference_utils/vocabulary.py:47: The name tf.gfile.GFile is deprecated. Please use tf.io.gfile.GFile instead.\n",
      "\n",
      "INFO:tensorflow:Created vocabulary with 11520 words\n",
      "INFO:tensorflow:Loading model from checkpoint: /home/owen/workspace/visual-questioner/im2txt/model.ckpt-2000000\n",
      "INFO:tensorflow:Restoring parameters from /home/owen/workspace/visual-questioner/im2txt/model.ckpt-2000000\n",
      "INFO:tensorflow:Successfully loaded checkpoint: model.ckpt-2000000\n"
     ]
    }
   ],
   "source": [
    "# Prepare captioner\n",
    "checkpoint_path = '/home/owen/workspace/visual-questioner/im2txt/model.ckpt-2000000'\n",
    "vocab_file_path = '/home/owen/workspace/visual-questioner/im2txt/word_counts.txt'\n",
    "captioner = Captioner(sess, checkpoint_path, vocab_file_path)"
   ]
  },
  {
   "cell_type": "code",
   "execution_count": 5,
   "metadata": {},
   "outputs": [],
   "source": [
    "image_path = '/home/owen/workspace/visual-questioner/images/water.jpg'\n",
    "caption = captioner.caption(image_path)\n",
    "\n",
    "if len(caption) > 0:\n",
    "    # First letter uppercase\n",
    "    caption = caption[0].upper() + caption[1:]"
   ]
  },
  {
   "cell_type": "code",
   "execution_count": 10,
   "metadata": {},
   "outputs": [
    {
     "name": "stdout",
     "output_type": "stream",
     "text": [
      "Questions:\n",
      "1. The first wave of waves in the world was called?\n"
     ]
    }
   ],
   "source": [
    "questions = gpt2_gen_questions(sess, caption, nsamples=1, temperature=0.7)\n",
    "print('Questions:')\n",
    "for i, question in enumerate(questions):\n",
    "    print('%d. %s' % (i + 1, question))"
   ]
  },
  {
   "cell_type": "code",
   "execution_count": null,
   "metadata": {},
   "outputs": [],
   "source": []
  }
 ],
 "metadata": {
  "kernelspec": {
   "display_name": "Python 3",
   "language": "python",
   "name": "python3"
  },
  "language_info": {
   "codemirror_mode": {
    "name": "ipython",
    "version": 3
   },
   "file_extension": ".py",
   "mimetype": "text/x-python",
   "name": "python",
   "nbconvert_exporter": "python",
   "pygments_lexer": "ipython3",
   "version": "3.6.8"
  }
 },
 "nbformat": 4,
 "nbformat_minor": 2
}
